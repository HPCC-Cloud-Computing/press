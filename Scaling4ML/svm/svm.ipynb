{
 "cells": [
  {
   "cell_type": "code",
   "execution_count": 49,
   "metadata": {},
   "outputs": [],
   "source": [
    "import pandas as pd\n",
    "import numpy as np"
   ]
  },
  {
   "cell_type": "code",
   "execution_count": 70,
   "metadata": {},
   "outputs": [],
   "source": [
    "file_name = 'day6_10.csv'    # input file name\n",
    "window_size = 10\n",
    "k = 10                          # scale -k -> k\n",
    "train_size = 0.9               # tỉ lệ data được dùng để train"
   ]
  },
  {
   "cell_type": "code",
   "execution_count": 71,
   "metadata": {},
   "outputs": [
    {
     "data": {
      "text/html": [
       "<div>\n",
       "<style scoped>\n",
       "    .dataframe tbody tr th:only-of-type {\n",
       "        vertical-align: middle;\n",
       "    }\n",
       "\n",
       "    .dataframe tbody tr th {\n",
       "        vertical-align: top;\n",
       "    }\n",
       "\n",
       "    .dataframe thead th {\n",
       "        text-align: right;\n",
       "    }\n",
       "</style>\n",
       "<table border=\"1\" class=\"dataframe\">\n",
       "  <thead>\n",
       "    <tr style=\"text-align: right;\">\n",
       "      <th></th>\n",
       "      <th>0</th>\n",
       "      <th>1</th>\n",
       "      <th>2</th>\n",
       "      <th>3</th>\n",
       "      <th>4</th>\n",
       "      <th>5</th>\n",
       "      <th>6</th>\n",
       "      <th>7</th>\n",
       "      <th>8</th>\n",
       "      <th>9</th>\n",
       "      <th>10</th>\n",
       "    </tr>\n",
       "  </thead>\n",
       "  <tbody>\n",
       "    <tr>\n",
       "      <th>0</th>\n",
       "      <td>8400</td>\n",
       "      <td>10165</td>\n",
       "      <td>9482</td>\n",
       "      <td>8041</td>\n",
       "      <td>7939</td>\n",
       "      <td>7608</td>\n",
       "      <td>8304</td>\n",
       "      <td>8485</td>\n",
       "      <td>7278</td>\n",
       "      <td>7427</td>\n",
       "      <td>-40</td>\n",
       "    </tr>\n",
       "    <tr>\n",
       "      <th>1</th>\n",
       "      <td>10165</td>\n",
       "      <td>9482</td>\n",
       "      <td>8041</td>\n",
       "      <td>7939</td>\n",
       "      <td>7608</td>\n",
       "      <td>8304</td>\n",
       "      <td>8485</td>\n",
       "      <td>7278</td>\n",
       "      <td>7427</td>\n",
       "      <td>7556</td>\n",
       "      <td>5</td>\n",
       "    </tr>\n",
       "    <tr>\n",
       "      <th>2</th>\n",
       "      <td>9482</td>\n",
       "      <td>8041</td>\n",
       "      <td>7939</td>\n",
       "      <td>7608</td>\n",
       "      <td>8304</td>\n",
       "      <td>8485</td>\n",
       "      <td>7278</td>\n",
       "      <td>7427</td>\n",
       "      <td>7556</td>\n",
       "      <td>7763</td>\n",
       "      <td>5</td>\n",
       "    </tr>\n",
       "    <tr>\n",
       "      <th>3</th>\n",
       "      <td>8041</td>\n",
       "      <td>7939</td>\n",
       "      <td>7608</td>\n",
       "      <td>8304</td>\n",
       "      <td>8485</td>\n",
       "      <td>7278</td>\n",
       "      <td>7427</td>\n",
       "      <td>7556</td>\n",
       "      <td>7763</td>\n",
       "      <td>6995</td>\n",
       "      <td>7</td>\n",
       "    </tr>\n",
       "    <tr>\n",
       "      <th>4</th>\n",
       "      <td>7939</td>\n",
       "      <td>7608</td>\n",
       "      <td>8304</td>\n",
       "      <td>8485</td>\n",
       "      <td>7278</td>\n",
       "      <td>7427</td>\n",
       "      <td>7556</td>\n",
       "      <td>7763</td>\n",
       "      <td>6995</td>\n",
       "      <td>6593</td>\n",
       "      <td>-25</td>\n",
       "    </tr>\n",
       "  </tbody>\n",
       "</table>\n",
       "</div>"
      ],
      "text/plain": [
       "      0      1     2     3     4     5     6     7     8     9   10\n",
       "0   8400  10165  9482  8041  7939  7608  8304  8485  7278  7427 -40\n",
       "1  10165   9482  8041  7939  7608  8304  8485  7278  7427  7556   5\n",
       "2   9482   8041  7939  7608  8304  8485  7278  7427  7556  7763   5\n",
       "3   8041   7939  7608  8304  8485  7278  7427  7556  7763  6995   7\n",
       "4   7939   7608  8304  8485  7278  7427  7556  7763  6995  6593 -25"
      ]
     },
     "execution_count": 71,
     "metadata": {},
     "output_type": "execute_result"
    }
   ],
   "source": [
    "df = pd.read_csv(file_name, header=None)\n",
    "df.head()"
   ]
  },
  {
   "cell_type": "code",
   "execution_count": 72,
   "metadata": {},
   "outputs": [],
   "source": [
    "# Chuẩn bị dữ liệu\n",
    "X = np.array(df[list(range(window_size))], dtype='float32')\n",
    "y = np.array(df[window_size])\n",
    "X_train = X[:int(train_size*len(X))]\n",
    "X_test = X[int(train_size*len(X)):]\n",
    "y_train = y[:int(train_size*len(y))]\n",
    "y_test = y[int(train_size*len(y)):]"
   ]
  },
  {
   "cell_type": "code",
   "execution_count": 76,
   "metadata": {},
   "outputs": [
    {
     "name": "stderr",
     "output_type": "stream",
     "text": [
      "c:\\users\\mp\\appdata\\local\\programs\\python\\python35\\lib\\site-packages\\sklearn\\model_selection\\_split.py:605: Warning: The least populated class in y has only 1 members, which is too few. The minimum number of members in any class cannot be less than n_splits=3.\n",
      "  % (min_groups, self.n_splits)), Warning)\n"
     ]
    },
    {
     "data": {
      "text/plain": [
       "GridSearchCV(cv=None, error_score='raise',\n",
       "       estimator=SVC(C=1.0, cache_size=200, class_weight=None, coef0=0.0,\n",
       "  decision_function_shape='ovr', degree=3, gamma='auto', kernel='rbf',\n",
       "  max_iter=-1, probability=False, random_state=None, shrinking=True,\n",
       "  tol=0.001, verbose=False),\n",
       "       fit_params=None, iid=True, n_jobs=1,\n",
       "       param_grid={'decision_function_shape': ('ovo', 'ovr'), 'kernel': ('linear', 'rbf', 'sigmoid', 'poly')},\n",
       "       pre_dispatch='2*n_jobs', refit=True, return_train_score='warn',\n",
       "       scoring=None, verbose=0)"
      ]
     },
     "execution_count": 76,
     "metadata": {},
     "output_type": "execute_result"
    }
   ],
   "source": [
    "from sklearn.svm import SVC\n",
    "from sklearn.model_selection import GridSearchCV\n",
    "\n",
    "params = {\n",
    "    'kernel': ('linear', 'rbf', 'sigmoid', 'poly'),\n",
    "    'decision_function_shape': ('ovo', 'ovr')\n",
    "}\n",
    "\n",
    "svm = SVC()\n",
    "clf = GridSearchCV(svm, params)\n",
    "# Training\n",
    "clf.fit(X_train, y_train)"
   ]
  },
  {
   "cell_type": "code",
   "execution_count": 77,
   "metadata": {},
   "outputs": [],
   "source": [
    "#sorted(clf.cv_results_.keys())"
   ]
  },
  {
   "cell_type": "code",
   "execution_count": 78,
   "metadata": {},
   "outputs": [
    {
     "data": {
      "text/plain": [
       "array([-19, -31,  37, -19,   9, -19,   5,  37, -50,  35,  50, -50, -31,\n",
       "        35,  50, -50,  50, -34, -34,  35, -34,  35, -34,  35, -34, -31,\n",
       "       -31, -34,  50, -34, -48, -34,  35, -48, -50,  35, -27, -50,  47,\n",
       "       -42,  35,   9, -49, -48, -31, -48,   3, -48, -31,  47,  47,  47,\n",
       "        35, -34, -27, -50, -50,  50, -48, -48,  47, -47, -47,  47, -48,\n",
       "       -48, -48, -50, -29,  36,  36], dtype=int64)"
      ]
     },
     "execution_count": 78,
     "metadata": {},
     "output_type": "execute_result"
    }
   ],
   "source": [
    "clf.predict(X_test)"
   ]
  },
  {
   "cell_type": "code",
   "execution_count": 79,
   "metadata": {},
   "outputs": [
    {
     "data": {
      "text/plain": [
       "0.14084507042253522"
      ]
     },
     "execution_count": 79,
     "metadata": {},
     "output_type": "execute_result"
    }
   ],
   "source": [
    "clf.score(X_test, y_test)"
   ]
  },
  {
   "cell_type": "code",
   "execution_count": null,
   "metadata": {},
   "outputs": [],
   "source": []
  }
 ],
 "metadata": {
  "kernelspec": {
   "display_name": "Python 3",
   "language": "python",
   "name": "python3"
  },
  "language_info": {
   "codemirror_mode": {
    "name": "ipython",
    "version": 3
   },
   "file_extension": ".py",
   "mimetype": "text/x-python",
   "name": "python",
   "nbconvert_exporter": "python",
   "pygments_lexer": "ipython3",
   "version": "3.5.4"
  }
 },
 "nbformat": 4,
 "nbformat_minor": 2
}
